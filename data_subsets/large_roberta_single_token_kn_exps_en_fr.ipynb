{
  "cells": [
    {
      "cell_type": "markdown",
      "metadata": {
        "id": "mC8LLzGr20Mo"
      },
      "source": [
        "### Experiments for large varient single token knowledge neurons en-fr\n",
        "\n",
        "In this notebook, we are doing the following task:\n",
        "- Identify the knowledge neurons for facts expressed in one language (say English) related to a relation.\n",
        "- Apply interventions on the identified neurons for the same facts expressed in another language (say French) related to a relation.\n",
        "\n",
        "This experiments would help us make a broader inference on whether the factual knowledge is more localized or globalized. If it is localized then is it globalized within a set of language families."
      ]
    },
    {
      "cell_type": "code",
      "execution_count": null,
      "metadata": {
        "colab": {
          "base_uri": "https://localhost:8080/"
        },
        "id": "JTUJ8k1B27A4",
        "outputId": "b1b65b0f-f356-429c-ffa7-ebba2d63915a"
      },
      "outputs": [
        {
          "name": "stdout",
          "output_type": "stream",
          "text": [
            "Mounted at /content/drive\n"
          ]
        }
      ],
      "source": [
        "from google.colab import drive\n",
        "drive.mount('/content/drive')"
      ]
    },
    {
      "cell_type": "code",
      "execution_count": null,
      "metadata": {
        "colab": {
          "base_uri": "https://localhost:8080/"
        },
        "id": "zxO48e3L3NbR",
        "outputId": "b7e47fa5-9cdc-4efb-e893-0579e7236145"
      },
      "outputs": [
        {
          "name": "stdout",
          "output_type": "stream",
          "text": [
            "\u001b[K     |████████████████████████████████| 5.5 MB 26.7 MB/s \n",
            "\u001b[K     |████████████████████████████████| 41 kB 602 kB/s \n",
            "\u001b[K     |████████████████████████████████| 7.6 MB 77.0 MB/s \n",
            "\u001b[K     |████████████████████████████████| 182 kB 79.3 MB/s \n",
            "\u001b[?25h"
          ]
        }
      ],
      "source": [
        "!pip install transformers einops -qqq"
      ]
    },
    {
      "cell_type": "code",
      "execution_count": null,
      "metadata": {
        "colab": {
          "base_uri": "https://localhost:8080/"
        },
        "id": "QfDgkDiL3ltw",
        "outputId": "f313dc88-ab5b-4d84-eea1-05b32277af8c"
      },
      "outputs": [
        {
          "name": "stdout",
          "output_type": "stream",
          "text": [
            "/content\n",
            "Cloning into 'multilingual-knowledge-neurons'...\n",
            "remote: Enumerating objects: 57, done.\u001b[K\n",
            "remote: Counting objects: 100% (57/57), done.\u001b[K\n",
            "remote: Compressing objects: 100% (40/40), done.\u001b[K\n",
            "remote: Total 57 (delta 28), reused 44 (delta 17), pack-reused 0\u001b[K\n",
            "Unpacking objects: 100% (57/57), done.\n"
          ]
        }
      ],
      "source": [
        "%cd /content\n",
        "!rm -rf /content/multilingual-knowledge-neurons\n",
        "!git clone https://github.com/jaygala24/multilingual-knowledge-neurons.git"
      ]
    },
    {
      "cell_type": "code",
      "execution_count": null,
      "metadata": {
        "id": "01IwvtuT3oWV"
      },
      "outputs": [],
      "source": [
        "%cd /content/multilingual-knowledge-neurons\n",
        "!git checkout eleutherAI"
      ]
    },
    {
      "cell_type": "code",
      "execution_count": null,
      "metadata": {
        "id": "HnP2zWya3qjv"
      },
      "outputs": [],
      "source": [
        "!gdown --id 1p0KVcH27pgRhw99RI7Z-aoqFGNVdeikZ\n",
        "!unzip datasets.zip"
      ]
    },
    {
      "cell_type": "code",
      "execution_count": null,
      "metadata": {
        "id": "Ju35eIWF3scl"
      },
      "outputs": [],
      "source": [
        "PARAREL_RELATION_NAMES = [\n",
        "    'P17', 'P19', 'P20', 'P27', 'P30', 'P36', 'P37', 'P39', 'P47', 'P101', 'P103',\n",
        "    'P106', 'P108', 'P127', 'P131', 'P136', 'P138', 'P140', 'P159', 'P176', 'P178',\n",
        "    'P190', 'P264', 'P276', 'P279', 'P361', 'P364', 'P407', 'P413', 'P449', 'P463',\n",
        "    'P495', 'P530', 'P740', 'P937', 'P1303', 'P1376', 'P1412'\n",
        "]"
      ]
    },
    {
      "cell_type": "code",
      "execution_count": null,
      "metadata": {
        "id": "IfNcNpSL3uYf"
      },
      "outputs": [],
      "source": [
        "#!python evaluate.py --model_name xlm-roberta-large --int_lang en --obs_lang fr --rel P17 --results_dir xlm_roberta_large_en_fr_neurons"
      ]
    },
    {
      "cell_type": "code",
      "execution_count": null,
      "metadata": {
        "id": "Pr2RrjqZ4FG-"
      },
      "outputs": [],
      "source": [
        "#%cp -av \"/content/multilingual-knowledge-neurons/xlm_roberta_large_en_fr_neurons/\" \"/content/drive/MyDrive/resEngFrenchLarge/\""
      ]
    },
    {
      "cell_type": "code",
      "execution_count": null,
      "metadata": {
        "id": "vZ-xkYH24ODx"
      },
      "outputs": [],
      "source": [
        "#!python evaluate.py --model_name xlm-roberta-large --int_lang en --obs_lang fr --rel P19 --results_dir xlm_roberta_large_en_fr_neurons"
      ]
    },
    {
      "cell_type": "code",
      "execution_count": null,
      "metadata": {
        "id": "Fz_bhstt4ToJ"
      },
      "outputs": [],
      "source": [
        "#%cp -av \"/content/multilingual-knowledge-neurons/xlm_roberta_large_en_fr_neurons/\" \"/content/drive/MyDrive/resEngFrenchLarge/\""
      ]
    },
    {
      "cell_type": "code",
      "execution_count": null,
      "metadata": {
        "id": "ewgn72Bv4atq"
      },
      "outputs": [],
      "source": [
        "#!python evaluate.py --model_name xlm-roberta-large --int_lang en --obs_lang fr --rel P20 --results_dir xlm_roberta_large_en_fr_neurons"
      ]
    },
    {
      "cell_type": "code",
      "execution_count": null,
      "metadata": {
        "id": "WB1s0Bxd4-fK"
      },
      "outputs": [],
      "source": [
        "#%cp -av \"/content/multilingual-knowledge-neurons/xlm_roberta_large_en_fr_neurons/\" \"/content/drive/MyDrive/resEngFrenchLarge/\""
      ]
    },
    {
      "cell_type": "code",
      "execution_count": null,
      "metadata": {
        "id": "0nO_KYkN4_dH"
      },
      "outputs": [],
      "source": [
        "#!python evaluate.py --model_name xlm-roberta-large --int_lang en --obs_lang fr --rel P27 --results_dir xlm_roberta_large_en_fr_neurons"
      ]
    },
    {
      "cell_type": "code",
      "execution_count": null,
      "metadata": {
        "id": "mp9jT4PC5D_b"
      },
      "outputs": [],
      "source": [
        "#%cp -av \"/content/multilingual-knowledge-neurons/xlm_roberta_large_en_fr_neurons/\" \"/content/drive/MyDrive/resEngFrenchLarge/\""
      ]
    },
    {
      "cell_type": "code",
      "execution_count": null,
      "metadata": {
        "id": "OhfRwZOH5Ja4"
      },
      "outputs": [],
      "source": [
        "#!python evaluate.py --model_name xlm-roberta-large --int_lang en --obs_lang fr --rel P30 --results_dir xlm_roberta_large_en_fr_neurons"
      ]
    },
    {
      "cell_type": "code",
      "execution_count": null,
      "metadata": {
        "id": "piWFNiBI5Mmc"
      },
      "outputs": [],
      "source": [
        "#%cp -av \"/content/multilingual-knowledge-neurons/xlm_roberta_large_en_fr_neurons/\" \"/content/drive/MyDrive/resEngFrenchLarge/\""
      ]
    },
    {
      "cell_type": "code",
      "execution_count": null,
      "metadata": {
        "id": "TtGsNRvB5OSN"
      },
      "outputs": [],
      "source": [
        "#!python evaluate.py --model_name xlm-roberta-large --int_lang en --obs_lang fr --rel P36 --results_dir xlm_roberta_large_en_fr_neurons"
      ]
    },
    {
      "cell_type": "code",
      "execution_count": null,
      "metadata": {
        "id": "DMIr3lY-5Ohd"
      },
      "outputs": [],
      "source": [
        "#%cp -av \"/content/multilingual-knowledge-neurons/xlm_roberta_large_en_fr_neurons/\" \"/content/drive/MyDrive/resEngFrenchLarge/\"\n"
      ]
    },
    {
      "cell_type": "code",
      "execution_count": null,
      "metadata": {
        "id": "jY-EqG5b5Oun"
      },
      "outputs": [],
      "source": [
        "#!python evaluate.py --model_name xlm-roberta-large --int_lang en --obs_lang fr --rel P37 --results_dir xlm_roberta_large_en_fr_neurons"
      ]
    },
    {
      "cell_type": "code",
      "execution_count": null,
      "metadata": {
        "id": "CAXSnlAR5O4O"
      },
      "outputs": [],
      "source": [
        "#%cp -av \"/content/multilingual-knowledge-neurons/xlm_roberta_large_en_fr_neurons/\" \"/content/drive/MyDrive/resEngFrenchLarge/\""
      ]
    },
    {
      "cell_type": "code",
      "execution_count": null,
      "metadata": {
        "id": "qyM5OC5c5PCR"
      },
      "outputs": [],
      "source": [
        "#!python evaluate.py --model_name xlm-roberta-large --int_lang en --obs_lang fr --rel P39 --results_dir xlm_roberta_large_en_fr_neurons"
      ]
    },
    {
      "cell_type": "code",
      "execution_count": null,
      "metadata": {
        "id": "Sc_7RpTI5PKY"
      },
      "outputs": [],
      "source": [
        "#%cp -av \"/content/multilingual-knowledge-neurons/xlm_roberta_large_en_fr_neurons/\" \"/content/drive/MyDrive/resEngFrenchLarge/\""
      ]
    },
    {
      "cell_type": "code",
      "execution_count": null,
      "metadata": {
        "id": "WM92SAbH5PRs"
      },
      "outputs": [],
      "source": [
        "#!python evaluate.py --model_name xlm-roberta-large --int_lang en --obs_lang fr --rel P47 --results_dir xlm_roberta_large_en_fr_neurons"
      ]
    },
    {
      "cell_type": "code",
      "execution_count": null,
      "metadata": {
        "id": "C9V2HECj5PZE"
      },
      "outputs": [],
      "source": [
        "#%cp -av \"/content/multilingual-knowledge-neurons/xlm_roberta_large_en_fr_neurons/\" \"/content/drive/MyDrive/resEngFrenchLarge\""
      ]
    },
    {
      "cell_type": "code",
      "execution_count": null,
      "metadata": {
        "id": "f8EAwEX05PgM"
      },
      "outputs": [],
      "source": [
        "#!python evaluate.py --model_name xlm-roberta-large --int_lang en --obs_lang fr --rel P101 --results_dir xlm_roberta_large_en_fr_neurons"
      ]
    },
    {
      "cell_type": "code",
      "execution_count": null,
      "metadata": {
        "id": "v1xZHal55Pnp"
      },
      "outputs": [],
      "source": [
        "#%cp -av \"/content/multilingual-knowledge-neurons/xlm_roberta_large_en_fr_neurons/\" \"/content/drive/MyDrive/resEngFrenchLarge/\"\n"
      ]
    },
    {
      "cell_type": "code",
      "execution_count": null,
      "metadata": {
        "id": "Ax4x7gMG5PvH"
      },
      "outputs": [],
      "source": [
        "#!python evaluate.py --model_name xlm-roberta-large --int_lang en --obs_lang fr --rel P103 --results_dir xlm_roberta_large_en_fr_neurons"
      ]
    },
    {
      "cell_type": "code",
      "execution_count": null,
      "metadata": {
        "id": "j29im1fB5mm2"
      },
      "outputs": [],
      "source": [
        "#%cp -av \"/content/multilingual-knowledge-neurons/xlm_roberta_large_en_fr_neurons/\" \"/content/drive/MyDrive/resEngFrenchLarge/\""
      ]
    },
    {
      "cell_type": "code",
      "execution_count": null,
      "metadata": {
        "id": "LwX-EjSl5mu1"
      },
      "outputs": [],
      "source": [
        "#!python evaluate.py --model_name xlm-roberta-large --int_lang en --obs_lang fr --rel P106 --results_dir xlm_roberta_large_en_fr_neurons"
      ]
    },
    {
      "cell_type": "code",
      "execution_count": null,
      "metadata": {
        "id": "lEK_J_-65myn"
      },
      "outputs": [],
      "source": [
        "#%cp -av \"/content/multilingual-knowledge-neurons/xlm_roberta_large_en_fr_neurons/\" \"/content/drive/MyDrive/resEngFrenchLarge/\""
      ]
    },
    {
      "cell_type": "code",
      "execution_count": null,
      "metadata": {
        "id": "IJimU2Gp5m17"
      },
      "outputs": [],
      "source": [
        "#!python evaluate.py --model_name xlm-roberta-large --int_lang en --obs_lang fr --rel P108 --results_dir xlm_roberta_large_en_fr_neurons"
      ]
    },
    {
      "cell_type": "code",
      "execution_count": null,
      "metadata": {
        "id": "ngm-ERzt5m4I"
      },
      "outputs": [],
      "source": [
        "#%cp -av \"/content/multilingual-knowledge-neurons/xlm_roberta_large_en_fr_neurons/\" \"/content/drive/MyDrive/resEngFrenchLarge/\""
      ]
    },
    {
      "cell_type": "code",
      "execution_count": null,
      "metadata": {
        "id": "VHYVY9QA5m61"
      },
      "outputs": [],
      "source": [
        "#!python evaluate.py --model_name xlm-roberta-large --int_lang en --obs_lang fr --rel P127 --results_dir xlm_roberta_large_en_fr_neurons"
      ]
    },
    {
      "cell_type": "code",
      "execution_count": null,
      "metadata": {
        "id": "Uq5FifL95m9O"
      },
      "outputs": [],
      "source": [
        "#%cp -av \"/content/multilingual-knowledge-neurons/xlm_roberta_large_en_fr_neurons/\" \"/content/drive/MyDrive/resEngFrenchLarge/\""
      ]
    },
    {
      "cell_type": "code",
      "execution_count": null,
      "metadata": {
        "id": "UgfYADLJ5m_1"
      },
      "outputs": [],
      "source": [
        "#!python evaluate.py --model_name xlm-roberta-large --int_lang en --obs_lang fr --rel P131 --results_dir xlm_roberta_large_en_fr_neurons"
      ]
    },
    {
      "cell_type": "code",
      "execution_count": null,
      "metadata": {
        "id": "9lRVk0mS5nDc"
      },
      "outputs": [],
      "source": [
        "#%cp -av \"/content/multilingual-knowledge-neurons/xlm_roberta_large_en_fr_neurons/\" \"/content/drive/MyDrive/resEngFrenchLarge/\""
      ]
    },
    {
      "cell_type": "code",
      "execution_count": null,
      "metadata": {
        "id": "HTgbAdjX5nFR"
      },
      "outputs": [],
      "source": [
        "!python evaluate.py --model_name xlm-roberta-large --int_lang en --obs_lang fr --rel P136 --results_dir xlm_roberta_large_en_fr_neurons"
      ]
    },
    {
      "cell_type": "code",
      "execution_count": null,
      "metadata": {
        "id": "rWwPy-IJ5nHq"
      },
      "outputs": [],
      "source": [
        "%cp -av \"/content/multilingual-knowledge-neurons/xlm_roberta_large_en_fr_neurons/\" \"/content/drive/MyDrive/resEngFrenchLarge/\""
      ]
    },
    {
      "cell_type": "code",
      "execution_count": null,
      "metadata": {
        "colab": {
          "background_save": true
        },
        "id": "ONaR_VLv5nKi"
      },
      "outputs": [],
      "source": [
        "!python evaluate.py --model_name xlm-roberta-large --int_lang en --obs_lang fr --rel P138 --results_dir xlm_roberta_large_en_fr_neurons"
      ]
    },
    {
      "cell_type": "code",
      "execution_count": null,
      "metadata": {
        "colab": {
          "background_save": true
        },
        "id": "Fe6_jskx5nNT"
      },
      "outputs": [],
      "source": [
        "%cp -av \"/content/multilingual-knowledge-neurons/xlm_roberta_large_en_fr_neurons/\" \"/content/drive/MyDrive/resEngFrenchLarge/\""
      ]
    },
    {
      "cell_type": "code",
      "execution_count": null,
      "metadata": {
        "colab": {
          "background_save": true
        },
        "id": "HrD7bxkj5nP2"
      },
      "outputs": [],
      "source": [
        "!python evaluate.py --model_name xlm-roberta-large --int_lang en --obs_lang fr --rel P140 --results_dir xlm_roberta_large_en_fr_neurons"
      ]
    },
    {
      "cell_type": "code",
      "execution_count": null,
      "metadata": {
        "id": "5WxWSi-z5nSY"
      },
      "outputs": [],
      "source": [
        "%cp -av \"/content/multilingual-knowledge-neurons/xlm_roberta_large_en_fr_neurons/\" \"/content/drive/MyDrive/resEngFrenchLarge/\""
      ]
    },
    {
      "cell_type": "code",
      "execution_count": null,
      "metadata": {
        "id": "HbifGavk5nVE"
      },
      "outputs": [],
      "source": [
        "!python evaluate.py --model_name xlm-roberta-large --int_lang en --obs_lang fr --rel P159 --results_dir xlm_roberta_large_en_fr_neurons"
      ]
    },
    {
      "cell_type": "code",
      "execution_count": null,
      "metadata": {
        "id": "Wui7vS6m5nXw"
      },
      "outputs": [],
      "source": [
        "%cp -av \"/content/multilingual-knowledge-neurons/xlm_roberta_large_en_fr_neurons/\" \"/content/drive/MyDrive/resEngFrenchLarge/\""
      ]
    },
    {
      "cell_type": "code",
      "execution_count": null,
      "metadata": {
        "id": "vo-NGi945nam"
      },
      "outputs": [],
      "source": [
        "!python evaluate.py --model_name xlm-roberta-large --int_lang en --obs_lang fr --rel P176 --results_dir xlm_roberta_large_en_fr_neurons"
      ]
    },
    {
      "cell_type": "code",
      "execution_count": null,
      "metadata": {
        "id": "ryHzfbRh5ndM"
      },
      "outputs": [],
      "source": [
        "%cp -av \"/content/multilingual-knowledge-neurons/xlm_roberta_large_en_fr_neurons/\" \"/content/drive/MyDrive/resEngFrenchLarge/\""
      ]
    },
    {
      "cell_type": "code",
      "execution_count": null,
      "metadata": {
        "id": "751nxd4P5nf7"
      },
      "outputs": [],
      "source": [
        "!python evaluate.py --model_name xlm-roberta-large --int_lang en --obs_lang fr --rel P178 --results_dir xlm_roberta_large_en_fr_neurons"
      ]
    },
    {
      "cell_type": "code",
      "execution_count": null,
      "metadata": {
        "id": "xGuYduzF5nim"
      },
      "outputs": [],
      "source": [
        "%cp -av \"/content/multilingual-knowledge-neurons/xlm_roberta_large_en_fr_neurons/\" \"/content/drive/MyDrive/resEngFrenchLarge/\""
      ]
    },
    {
      "cell_type": "code",
      "execution_count": null,
      "metadata": {
        "id": "coo15gcI5noC"
      },
      "outputs": [],
      "source": [
        "!python evaluate.py --model_name xlm-roberta-large --int_lang en --obs_lang fr --rel P190 --results_dir xlm_roberta_large_en_fr_neurons"
      ]
    },
    {
      "cell_type": "code",
      "execution_count": null,
      "metadata": {
        "id": "yuTpiXTP5nq1"
      },
      "outputs": [],
      "source": [
        "%cp -av \"/content/multilingual-knowledge-neurons/xlm_roberta_large_en_fr_neurons/\" \"/content/drive/MyDrive/resEngFrenchLarge/\""
      ]
    },
    {
      "cell_type": "code",
      "execution_count": null,
      "metadata": {
        "id": "eBJwkkQD5ntc"
      },
      "outputs": [],
      "source": [
        "!python evaluate.py --model_name xlm-roberta-large --int_lang en --obs_lang fr --rel P264 --results_dir xlm_roberta_large_en_fr_neurons"
      ]
    },
    {
      "cell_type": "code",
      "execution_count": null,
      "metadata": {
        "id": "kQOkH7Ms5nwi"
      },
      "outputs": [],
      "source": [
        "%cp -av \"/content/multilingual-knowledge-neurons/xlm_roberta_large_en_fr_neurons/\" \"/content/drive/MyDrive/resEngFrenchLarge/\""
      ]
    },
    {
      "cell_type": "code",
      "execution_count": null,
      "metadata": {
        "id": "hWjngML35nzQ"
      },
      "outputs": [],
      "source": [
        "!python evaluate.py --model_name xlm-roberta-large --int_lang en --obs_lang fr --rel P276 --results_dir xlm_roberta_large_en_fr_neurons"
      ]
    },
    {
      "cell_type": "code",
      "execution_count": null,
      "metadata": {
        "id": "HOkBuOTC5n2A"
      },
      "outputs": [],
      "source": [
        "%cp -av \"/content/multilingual-knowledge-neurons/xlm_roberta_large_en_fr_neurons/\" \"/content/drive/MyDrive/resEngFrenchLarge/\""
      ]
    },
    {
      "cell_type": "code",
      "execution_count": null,
      "metadata": {
        "id": "3yjf7x0m5n49"
      },
      "outputs": [],
      "source": [
        "!python evaluate.py --model_name xlm-roberta-large --int_lang en --obs_lang fr --rel P279 --results_dir xlm_roberta_large_en_fr_neurons"
      ]
    },
    {
      "cell_type": "code",
      "execution_count": null,
      "metadata": {
        "id": "dGkrliZw5n8d"
      },
      "outputs": [],
      "source": [
        "%cp -av \"/content/multilingual-knowledge-neurons/xlm_roberta_large_en_fr_neurons/\" \"/content/drive/MyDrive/resEngFrenchLarge/\""
      ]
    },
    {
      "cell_type": "code",
      "execution_count": null,
      "metadata": {
        "id": "j6SDPqMJ5oNe"
      },
      "outputs": [],
      "source": [
        "!python evaluate.py --model_name xlm-roberta-large --int_lang en --obs_lang fr --rel P361 --results_dir xlm_roberta_large_en_fr_neurons"
      ]
    },
    {
      "cell_type": "code",
      "execution_count": null,
      "metadata": {
        "id": "gpcIXdua5oQd"
      },
      "outputs": [],
      "source": [
        "%cp -av \"/content/multilingual-knowledge-neurons/xlm_roberta_large_en_fr_neurons/\" \"/content/drive/MyDrive/resEngFrenchLarge/\""
      ]
    },
    {
      "cell_type": "code",
      "execution_count": null,
      "metadata": {
        "id": "1y6PoX9p5oTO"
      },
      "outputs": [],
      "source": [
        "!python evaluate.py --model_name xlm-roberta-large --int_lang en --obs_lang fr --rel P364 --results_dir xlm_roberta_large_en_fr_neurons"
      ]
    },
    {
      "cell_type": "code",
      "execution_count": null,
      "metadata": {
        "id": "WpIGzh2w5oV-"
      },
      "outputs": [],
      "source": [
        "%cp -av \"/content/multilingual-knowledge-neurons/xlm_roberta_large_en_fr_neurons/\" \"/content/drive/MyDrive/resEngFrenchLarge/\""
      ]
    },
    {
      "cell_type": "code",
      "execution_count": null,
      "metadata": {
        "id": "IXy6fGRIRvkk"
      },
      "outputs": [],
      "source": [
        "!python evaluate.py --model_name xlm-roberta-large --int_lang en --obs_lang fr --rel P407 --results_dir xlm_roberta_large_en_fr_neurons"
      ]
    },
    {
      "cell_type": "code",
      "execution_count": null,
      "metadata": {
        "id": "HxptY3IbR22j"
      },
      "outputs": [],
      "source": [
        "%cp -av \"/content/multilingual-knowledge-neurons/xlm_roberta_large_en_fr_neurons/\" \"/content/drive/MyDrive/resEngFrenchLarge/\""
      ]
    },
    {
      "cell_type": "code",
      "execution_count": null,
      "metadata": {
        "id": "nBDYqSsjR7-y"
      },
      "outputs": [],
      "source": [
        "!python evaluate.py --model_name xlm-roberta-large --int_lang en --obs_lang fr --rel P413 --results_dir xlm_roberta_large_en_fr_neurons"
      ]
    },
    {
      "cell_type": "code",
      "execution_count": null,
      "metadata": {
        "id": "h03MJSjXR3og"
      },
      "outputs": [],
      "source": [
        "%cp -av \"/content/multilingual-knowledge-neurons/xlm_roberta_large_en_fr_neurons/\" \"/content/drive/MyDrive/resEngFrenchLarge/\""
      ]
    },
    {
      "cell_type": "code",
      "execution_count": null,
      "metadata": {
        "id": "_wmuHEQ3R9yY"
      },
      "outputs": [],
      "source": [
        "!python evaluate.py --model_name xlm-roberta-large --int_lang en --obs_lang fr --rel P449 --results_dir xlm_roberta_large_en_fr_neurons"
      ]
    },
    {
      "cell_type": "code",
      "execution_count": null,
      "metadata": {
        "id": "UKkGrRIlSBTv"
      },
      "outputs": [],
      "source": [
        "%cp -av \"/content/multilingual-knowledge-neurons/xlm_roberta_large_en_fr_neurons/\" \"/content/drive/MyDrive/resEngFrenchLarge/\""
      ]
    },
    {
      "cell_type": "code",
      "execution_count": null,
      "metadata": {
        "id": "CyIWNjCnSFj4"
      },
      "outputs": [],
      "source": [
        "!python evaluate.py --model_name xlm-roberta-large --int_lang en --obs_lang fr --rel P463 --results_dir xlm_roberta_large_en_fr_neurons"
      ]
    },
    {
      "cell_type": "code",
      "execution_count": null,
      "metadata": {
        "id": "pOnm0nllSI-e"
      },
      "outputs": [],
      "source": [
        "%cp -av \"/content/multilingual-knowledge-neurons/xlm_roberta_large_en_fr_neurons/\" \"/content/drive/MyDrive/resEngFrenchLarge/\""
      ]
    },
    {
      "cell_type": "code",
      "execution_count": null,
      "metadata": {
        "id": "WnGycxfWSSYR"
      },
      "outputs": [],
      "source": [
        "!python evaluate.py --model_name xlm-roberta-large --int_lang en --obs_lang fr --rel P495 --results_dir xlm_roberta_large_en_fr_neurons"
      ]
    },
    {
      "cell_type": "code",
      "execution_count": null,
      "metadata": {
        "id": "o4YHhT2cSXWZ"
      },
      "outputs": [],
      "source": [
        "%cp -av \"/content/multilingual-knowledge-neurons/xlm_roberta_large_en_fr_neurons/\" \"/content/drive/MyDrive/resEngFrenchLarge/\""
      ]
    },
    {
      "cell_type": "code",
      "execution_count": null,
      "metadata": {
        "id": "EipxZkevSZ_q"
      },
      "outputs": [],
      "source": [
        "!python evaluate.py --model_name xlm-roberta-large --int_lang en --obs_lang fr --rel P530 --results_dir xlm_roberta_large_en_fr_neurons"
      ]
    },
    {
      "cell_type": "code",
      "execution_count": null,
      "metadata": {
        "id": "7F8la7lOSe8r"
      },
      "outputs": [],
      "source": [
        "%cp -av \"/content/multilingual-knowledge-neurons/xlm_roberta_large_en_fr_neurons/\" \"/content/drive/MyDrive/resEngFrenchLarge/\""
      ]
    },
    {
      "cell_type": "code",
      "execution_count": null,
      "metadata": {
        "id": "bSyfhygpSgjp"
      },
      "outputs": [],
      "source": [
        "!python evaluate.py --model_name xlm-roberta-large --int_lang en --obs_lang fr --rel P740 --results_dir xlm_roberta_large_en_fr_neurons"
      ]
    },
    {
      "cell_type": "code",
      "execution_count": null,
      "metadata": {
        "id": "iCo4_9g4Sll5"
      },
      "outputs": [],
      "source": [
        "%cp -av \"/content/multilingual-knowledge-neurons/xlm_roberta_large_en_fr_neurons/\" \"/content/drive/MyDrive/resEngFrenchLarge/\""
      ]
    },
    {
      "cell_type": "code",
      "execution_count": null,
      "metadata": {
        "id": "tlVmARARSpBy"
      },
      "outputs": [],
      "source": [
        "!python evaluate.py --model_name xlm-roberta-large --int_lang en --obs_lang fr --rel P937 --results_dir xlm_roberta_large_en_fr_neurons"
      ]
    },
    {
      "cell_type": "code",
      "execution_count": null,
      "metadata": {
        "id": "PGMJgIAWStJu"
      },
      "outputs": [],
      "source": [
        "%cp -av \"/content/multilingual-knowledge-neurons/xlm_roberta_large_en_fr_neurons/\" \"/content/drive/MyDrive/resEngFrenchLarge/\""
      ]
    },
    {
      "cell_type": "code",
      "execution_count": null,
      "metadata": {
        "id": "Bquc2HbvSzHj"
      },
      "outputs": [],
      "source": [
        "!python evaluate.py --model_name xlm-roberta-large --int_lang en --obs_lang fr --rel P1303 --results_dir xlm_roberta_large_en_fr_neurons"
      ]
    },
    {
      "cell_type": "code",
      "execution_count": null,
      "metadata": {
        "id": "8xKzc5Z8S2wB"
      },
      "outputs": [],
      "source": [
        "%cp -av \"/content/multilingual-knowledge-neurons/xlm_roberta_large_en_fr_neurons/\" \"/content/drive/MyDrive/resEngFrenchLarge/\""
      ]
    },
    {
      "cell_type": "code",
      "execution_count": null,
      "metadata": {
        "id": "ztnvC0_yS5Ya"
      },
      "outputs": [],
      "source": [
        "!python evaluate.py --model_name xlm-roberta-large --int_lang en --obs_lang fr --rel P1376 --results_dir xlm_roberta_large_en_fr_neurons"
      ]
    },
    {
      "cell_type": "code",
      "execution_count": null,
      "metadata": {
        "id": "ksqxEIoLS9pX"
      },
      "outputs": [],
      "source": [
        "%cp -av \"/content/multilingual-knowledge-neurons/xlm_roberta_large_en_fr_neurons/\" \"/content/drive/MyDrive/resEngFrenchLarge/\""
      ]
    },
    {
      "cell_type": "code",
      "execution_count": null,
      "metadata": {
        "id": "i8er_GmITAW8"
      },
      "outputs": [],
      "source": [
        "!python evaluate.py --model_name xlm-roberta-large --int_lang en --obs_lang fr --rel P1412 --results_dir xlm_roberta_large_en_fr_neurons"
      ]
    },
    {
      "cell_type": "code",
      "execution_count": null,
      "metadata": {
        "id": "tKUL6mdlTCrI"
      },
      "outputs": [],
      "source": [
        "%cp -av \"/content/multilingual-knowledge-neurons/xlm_roberta_large_en_fr_neurons/\" \"/content/drive/MyDrive/resEngFrenchLarge/\""
      ]
    },
    {
      "cell_type": "markdown",
      "metadata": {
        "id": "Pe8F06xnTMuX"
      },
      "source": [
        "download"
      ]
    },
    {
      "cell_type": "code",
      "execution_count": null,
      "metadata": {
        "id": "-onxikoKTOEg"
      },
      "outputs": [],
      "source": [
        "#!zip -r /content/drive/MyDrive/resEngFrenchAllRelations/xlm_roberta_base_en_fr_neurons.zip /content/drive/MyDrive/resEngFrenchAllRelations/xlm_roberta_base_en_fr_neurons"
      ]
    },
    {
      "cell_type": "code",
      "execution_count": null,
      "metadata": {
        "id": "bog7E7s_TebM"
      },
      "outputs": [],
      "source": [
        "#from google.colab import files\n",
        "#files.download('/content/drive/MyDrive/resEngFrenchAllRelations/xlm_roberta_base_en_fr_neurons.zip')"
      ]
    }
  ],
  "metadata": {
    "accelerator": "GPU",
    "colab": {
      "provenance": [],
      "gpuClass": "premium"
    },
    "gpuClass": "premium",
    "kernelspec": {
      "display_name": "Python 3",
      "name": "python3"
    },
    "language_info": {
      "name": "python"
    }
  },
  "nbformat": 4,
  "nbformat_minor": 0
}